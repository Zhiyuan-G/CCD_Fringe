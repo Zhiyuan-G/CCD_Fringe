{
 "cells": [
  {
   "cell_type": "code",
   "execution_count": 1,
   "metadata": {},
   "outputs": [
    {
     "name": "stdout",
     "output_type": "stream",
     "text": [
      "Populating the interactive namespace from numpy and matplotlib\n"
     ]
    }
   ],
   "source": [
    "%pylab inline\n",
    "import astropy.units as u\n",
    "import tmm\n",
    "from Getindex import load_refraction_data\n",
    "index_of_refraction = load_refraction_data(Epoxy_ind=1.6,Temp = 183.)\n",
    "import TMMSIM\n",
    "from numba import jit\n",
    "from tqdm import tqdm\n",
    "from astropy.io import fits\n",
    "import os"
   ]
  },
  {
   "cell_type": "code",
   "execution_count": 2,
   "metadata": {},
   "outputs": [],
   "source": [
    "@jit(nopython = True,nogil=True)\n",
    "def E2V_model(n_list,epoxy_um, wlen):\n",
    "    \n",
    "    thickness_um = np.array([np.inf, 0.1221,0.0441,100, 0.1, 0.3,1.,epoxy_um,160, np.inf])\n",
    "\n",
    "    # Assume normal incidence.\n",
    "    theta = 0.\n",
    "    R = T = 0\n",
    "    for pol in 'p':\n",
    "\n",
    "        # Using tmm package to do multilayer thin-film simulation\n",
    "        rr,tt = TMMSIM.coh_tmm(pol, n_list, thickness_um, theta, 1e-3 * wlen)\n",
    "        # Store R and T results\n",
    "        R += rr\n",
    "        T += tt\n",
    "\n",
    "    A = 1 - R - T\n",
    "\n",
    "    return(A)\n",
    "\n",
    "# Define the gaussian function\n",
    "@jit(nopython = True,nogil=True)\n",
    "def gaussian(x, mu, FWHM):\n",
    "\n",
    "    # Calculate sigma based on FWHM value 2nm\n",
    "    # FWHM = 2*sqrt(2*ln2)*sigma\n",
    "    sig = FWHM/(2*np.sqrt(2*np.log(2)))\n",
    "\n",
    "    return 1./(np.sqrt(2.*np.pi)*sig)*np.exp(-((x - mu)/sig)**2/2)\n",
    "\n",
    "\n",
    "@jit(nopython = True,nogil=True)\n",
    "def map_sim(n_list,thickmap,wlen):\n",
    "    Fringe_map = np.zeros_like(thickmap)\n",
    "    for i in range(len(thickmap)):\n",
    "        Fringe_map[i] = E2V_model(n_list = n_list,epoxy_um = thickmap[i],wlen=wlen)\n",
    "    return(Fringe_map)"
   ]
  },
  {
   "cell_type": "markdown",
   "metadata": {},
   "source": [
    "### Fringe Amplitude vs Wavelength plot (Epoxy layer)"
   ]
  },
  {
   "cell_type": "code",
   "execution_count": 4,
   "metadata": {},
   "outputs": [
    {
     "name": "stderr",
     "output_type": "stream",
     "text": [
      "100%|██████████| 343/343 [00:23<00:00, 14.44it/s]\n"
     ]
    }
   ],
   "source": [
    "wavelength = np.arange(650., 993., 1)\n",
    "MAP = np.arange(14,14.5,0.01)\n",
    "Fringe_amp = []\n",
    "for m in tqdm(range(len(wavelength))):\n",
    "    avg_wlen_width = 2\n",
    "    window =80\n",
    "    cen_wav = wavelength[m]\n",
    "    x = np.linspace(cen_wav-2*avg_wlen_width,cen_wav+2*avg_wlen_width,window+1)\n",
    "    # Assign weight to each point based on the gaussian\n",
    "    weight = gaussian(x,cen_wav,avg_wlen_width)\n",
    "    Fringe_map = np.zeros_like(MAP)\n",
    "\n",
    "    for k in (range(len(x))):\n",
    "        wlen = x[k]\n",
    "        material = ('Vacuum', 'MgF2','Ta2O5', 'Si_Temp', 'SiO2', 'Si_Temp', 'SiO2','Epoxy','Si_Temp','Si3N4')\n",
    "        n_list = np.array([index_of_refraction[m](wlen) for m in material])\n",
    "        Fringe_map += weight[k]*map_sim(n_list,MAP,wlen = x[k])\n",
    "    Fringe_map = Fringe_map/np.sum(weight)       \n",
    "    a = (np.max(Fringe_map)+np.min(Fringe_map))/2\n",
    "    A = (Fringe_map)-a\n",
    "    Fringe_amp.append(A[0])"
   ]
  },
  {
   "cell_type": "code",
   "execution_count": 12,
   "metadata": {},
   "outputs": [
    {
     "data": {
      "image/png": "[encoded data removed]",
      "text/plain": [
       "<Figure size 576x360 with 1 Axes>"
      ]
     },
     "metadata": {
      "needs_background": "light"
     },
     "output_type": "display_data"
    }
   ],
   "source": [
    "plt.figure(figsize = (8,5))\n",
    "plt.plot(wavelength[50:400],Fringe_amp[50:400])\n",
    "plt.grid()\n",
    "plt.xlabel('Wavelength[nm]',fontsize = 12)\n",
    "plt.ylabel('Fringe Amplitude',fontsize = 12);"
   ]
  },
  {
   "cell_type": "code",
   "execution_count": null,
   "metadata": {},
   "outputs": [],
   "source": [
    "# Generate Simulation data for fitting\n",
    "wavelength = np.arange(880., 1000., 10)\n",
    "for i in tqdm(range(60)):\n",
    "    MAP = np.arange(1+i*0.5,1+(i+1)*0.5,0.001)\n",
    "    Fringe_amp = []\n",
    "    for m in(range(len(wavelength))):\n",
    "\n",
    "        avg_wlen_width = 2\n",
    "        window =40\n",
    "\n",
    "        cen_wav = wavelength[m]\n",
    "        x = np.linspace(cen_wav-2*avg_wlen_width,cen_wav+2*avg_wlen_width,window+1)\n",
    "\n",
    "        # Assign weight to each point based on the gaussian\n",
    "        weight = gaussian(x,cen_wav,avg_wlen_width)\n",
    "\n",
    "        Fringe_map = np.zeros_like(MAP)\n",
    "        \n",
    "        for k in (range(len(x))):\n",
    "            wlen = x[k]\n",
    "            material = ('Vacuum', 'MgF2','Ta2O5', 'Si_Temp', 'SiO2', 'Si_Temp', 'SiO2','Epoxy','Si_Temp','Si3N4')\n",
    "            n_list = np.array([index_of_refraction[m](wlen) for m in material])\n",
    "            Fringe_map += weight[k]*map_sim(n_list,MAP,wlen = x[k])\n",
    "        Fringe_map = Fringe_map/np.sum(weight)       \n",
    "        a = (np.max(Fringe_map)+np.min(Fringe_map))/2\n",
    "        A = (Fringe_map)-a\n",
    "        Fringe_amp.append(A)\n",
    "    Fringe_amp = np.array(Fringe_amp)\n",
    "    if i == 0 :\n",
    "        Result = numpy.transpose(Fringe_amp)\n",
    "        Epoxythickness = MAP\n",
    "    else:\n",
    "        Result = np.vstack((Result,numpy.transpose(Fringe_amp)))\n",
    "        Epoxythickness = np.hstack((Epoxythickness,MAP))\n",
    "print(Epoxythickness.shape,Result.shape)"
   ]
  },
  {
   "cell_type": "code",
   "execution_count": null,
   "metadata": {},
   "outputs": [],
   "source": [
    "# Access \n",
    "os.chdir('data/Nice-Sample/E2V-361/data/')\n",
    "flat_files = os.listdir()\n",
    "flat_files.sort()"
   ]
  },
  {
   "cell_type": "code",
   "execution_count": null,
   "metadata": {},
   "outputs": [],
   "source": [
    "# Chop image, discarding bad quality pixels on the edge\n",
    "# And gaussian smoothing the image per wavelength\n",
    "good_wlen = [880,890,900,910,920,930,940,950,960,970,980,990]\n",
    "Fringe_amps_data = []\n",
    "error_data = []\n",
    "#for i,Range in enumerate(index_min) :\n",
    "wlen_data = np.arange(880,1000,10)\n",
    "TS_amp = []\n",
    "Fringe_amps = []\n",
    "TS_amp_err = []\n",
    "error = []\n",
    "for file in flat_files:\n",
    "        \n",
    "    assem = fits.open(file)\n",
    "    assembled = assem[0].data\n",
    "    big = assembled[15:-15,48:-48]\n",
    "    \n",
    "    smoothed = gaussian_filter(big, sigma=3)\n",
    "    smoothed = smoothed/np.mean(smoothed)-1\n",
    "    TS_amp.append(smoothed)"
   ]
  },
  {
   "cell_type": "code",
   "execution_count": null,
   "metadata": {},
   "outputs": [],
   "source": [
    "# Construct the Fringe Amp. Cube array 'B' from Flat cube\n",
    "TS_amp = np.array(TS_amp)\n",
    "print(TS_amp.shape)\n",
    "A = np.transpose(TS_amp.reshape(12,3974*4000))\n",
    "\n",
    "B = A.reshape(3974,4000,12)"
   ]
  },
  {
   "cell_type": "code",
   "execution_count": null,
   "metadata": {},
   "outputs": [],
   "source": [
    "# Compare data and theory for an arbitary pixel\n",
    "plt.figure(figsize = (7,5))\n",
    "point = B[500,600]\n",
    "#plt.errorbar(good_wlen,A[ii],yerr = 0.007,fmt = '--o',capsize = 3,label = 'SLAC-TS8')\n",
    "plt.plot(good_wlen,point,'o--')\n",
    "chi2 = np.sum((np.square((Result-point)))/11, axis=1)\n",
    "index = np.argmin(chi2)\n",
    "#begin_index = index\n",
    "plt.plot(good_wlen,Result[index],'o--',label = '%.2fum'%Epoxythickness[index])\n",
    "plt.xlabel('Wavelength[nm]',fontsize = 13)\n",
    "plt.ylabel('Fringe Amplitude',fontsize = 13)\n",
    "plt.legend(loc = 'best',fontsize = 13,frameon = False);"
   ]
  },
  {
   "cell_type": "code",
   "execution_count": null,
   "metadata": {},
   "outputs": [],
   "source": [
    "thickness_map = np.ones((3974,4000))\n",
    "R = 100\n",
    "index = 11320"
   ]
  },
  {
   "cell_type": "code",
   "execution_count": null,
   "metadata": {},
   "outputs": [],
   "source": [
    "# Descending scheme\n",
    "starting_row = 500\n",
    "starting_column = 600\n",
    "\n",
    "point = B[starting_row,starting_column]\n",
    "thickness_map[starting_row,starting_column] = Epoxythickness[index]\n",
    "\n",
    "R = 100\n",
    "    \n",
    "# descending\n",
    "index = 11320\n",
    "for j in range(len(thickness_map[-1,starting_column+1:])):\n",
    "    row = starting_row \n",
    "    column = j + starting_column+1\n",
    "    #print(column)\n",
    "    ###################\n",
    "    chi2 = np.sum((np.square((Result[index-R:index+R]-B[row,column])))/11, axis=1)\n",
    "    sub_index = np.argmin(chi2)\n",
    "    index = index + sub_index - R\n",
    "    thickness_map[row,column] = Epoxythickness[index]\n",
    "    ###################\n",
    "    \n",
    "reverse = True\n",
    "for i in tqdm(range(len(thickness_map[:,-1])-starting_row-1)):\n",
    "    row = starting_row + 1 + i\n",
    "    if reverse == False:\n",
    "        for j in range(len(thickness_map[-1,:])):\n",
    "            column = j\n",
    "            ###################\n",
    "            chi2 = np.sum((np.square((Result[index-R:index+R]-B[row,column])))/11, axis=1)\n",
    "            sub_index = np.argmin(chi2)\n",
    "            index = index + sub_index - R\n",
    "            thickness_map[row,column] = Epoxythickness[index]\n",
    "            ###################\n",
    "        reverse = True\n",
    "    else:\n",
    "        for j in range(len(thickness_map[-1,:])):\n",
    "            column = len(thickness_map[-1,:]) - j - 1\n",
    "            ###################\n",
    "            chi2 = np.sum((np.square((Result[index-R:index+R]-B[row,column])))/11, axis=1)\n",
    "            sub_index = np.argmin(chi2)\n",
    "            index = index + sub_index - R\n",
    "            thickness_map[row,column] = Epoxythickness[index]\n",
    "            ###################\n",
    "        reverse = False    "
   ]
  },
  {
   "cell_type": "code",
   "execution_count": null,
   "metadata": {},
   "outputs": [],
   "source": [
    "# Ascending scheme\n",
    "for j in range(starting_column):\n",
    "    row = starting_row\n",
    "    column = starting_column-(j+1)\n",
    "    ###################\n",
    "    chi2 = np.sum((np.square((Result[index-R:index+R]-B[row,column])))/11, axis=1)\n",
    "    sub_index = np.argmin(chi2)\n",
    "    index = index + sub_index - R\n",
    "    thickness_map[row,column] = Epoxythickness[index]\n",
    "    ###################\n",
    "    #print('')\n",
    "\n",
    "reverse = False\n",
    "for i in tqdm(range(starting_row)):\n",
    "    row = starting_row -(1 + i)\n",
    "    if reverse == False:\n",
    "        for j in range(len(thickness_map[-1,:])):\n",
    "            column = j\n",
    "            ###################\n",
    "            chi2 = np.sum((np.square((Result[index-R:index+R]-B[row,column])))/11, axis=1)\n",
    "            sub_index = np.argmin(chi2)\n",
    "            index = index + sub_index - R\n",
    "            thickness_map[row,column] = Epoxythickness[index]\n",
    "            ###################\n",
    "        reverse = True\n",
    "    else:\n",
    "        for j in range(len(thickness_map[-1,:])):\n",
    "            column = len(thickness_map[-1,:]) - j - 1\n",
    "            ###################\n",
    "            chi2 = np.sum((np.square((Result[index-R:index+R]-B[row,column])))/11, axis=1)\n",
    "            sub_index = np.argmin(chi2)\n",
    "            index = index + sub_index - R\n",
    "            thickness_map[row,column] = Epoxythickness[index]\n",
    "            ###################\n",
    "        reverse = False"
   ]
  },
  {
   "cell_type": "code",
   "execution_count": null,
   "metadata": {},
   "outputs": [],
   "source": [
    "# Plot the diagnal componet of the derived thickness map\n",
    "plt.plot(np.diag(thickness_map))"
   ]
  },
  {
   "cell_type": "code",
   "execution_count": null,
   "metadata": {},
   "outputs": [],
   "source": [
    "# Store Fitting result\n",
    "Fitting_result = thickness_map.reshape(3974*4000)\n",
    "hdr = fits.Header()\n",
    "hdr['Creator'] = 'Zhiyuan Guo'\n",
    "hdr['Date'] = '3/14/2021'\n",
    "hdr['range'] = '[15:-15,-48:-48]'\n",
    "empty_primary = fits.PrimaryHDU(header=hdr)\n",
    "\n",
    "col1 = fits.Column(name='Sim', format='1D',  array=Fitting_result)\n",
    "hdu = fits.BinTableHDU.from_columns([col1])\n",
    "hdul = fits.HDUList([empty_primary, hdu])\n",
    "hdul.writeto('../../../Data/E2V-364.fits')"
   ]
  }
 ],
 "metadata": {
  "kernelspec": {
   "display_name": "Python 3",
   "language": "python",
   "name": "python3"
  },
  "language_info": {
   "codemirror_mode": {
    "name": "ipython",
    "version": 3
   },
   "file_extension": ".py",
   "mimetype": "text/x-python",
   "name": "python",
   "nbconvert_exporter": "python",
   "pygments_lexer": "ipython3",
   "version": "3.7.6"
  }
 },
 "nbformat": 4,
 "nbformat_minor": 4
}
